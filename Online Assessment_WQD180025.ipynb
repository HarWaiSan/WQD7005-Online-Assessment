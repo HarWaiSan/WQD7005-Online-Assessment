{
 "cells": [
  {
   "cell_type": "markdown",
   "metadata": {},
   "source": [
    "### Import Libraries"
   ]
  },
  {
   "cell_type": "code",
   "execution_count": null,
   "metadata": {},
   "outputs": [],
   "source": [
    "#Har Wai San, WQD180025 (17051470/1)"
   ]
  },
  {
   "cell_type": "code",
   "execution_count": 54,
   "metadata": {},
   "outputs": [],
   "source": [
    "#import libraries and load dataset\n",
    "\n",
    "import pandas as pd\n",
    "import numpy as np"
   ]
  },
  {
   "cell_type": "markdown",
   "metadata": {},
   "source": [
    "### 1. Data Exploration\n",
    "#### 1.1 Import the dataset"
   ]
  },
  {
   "cell_type": "code",
   "execution_count": 55,
   "metadata": {},
   "outputs": [
    {
     "name": "stdout",
     "output_type": "stream",
     "text": [
      "(69682, 11)\n"
     ]
    },
    {
     "data": {
      "text/html": [
       "<div>\n",
       "<style scoped>\n",
       "    .dataframe tbody tr th:only-of-type {\n",
       "        vertical-align: middle;\n",
       "    }\n",
       "\n",
       "    .dataframe tbody tr th {\n",
       "        vertical-align: top;\n",
       "    }\n",
       "\n",
       "    .dataframe thead th {\n",
       "        text-align: right;\n",
       "    }\n",
       "</style>\n",
       "<table border=\"1\" class=\"dataframe\">\n",
       "  <thead>\n",
       "    <tr style=\"text-align: right;\">\n",
       "      <th></th>\n",
       "      <th>Date</th>\n",
       "      <th>Sector_Number</th>\n",
       "      <th>Sector_Name</th>\n",
       "      <th>Stock_Code</th>\n",
       "      <th>Stock_Name</th>\n",
       "      <th>Ref</th>\n",
       "      <th>Open</th>\n",
       "      <th>Last</th>\n",
       "      <th>Change</th>\n",
       "      <th>Change_%</th>\n",
       "      <th>Volume</th>\n",
       "    </tr>\n",
       "  </thead>\n",
       "  <tbody>\n",
       "    <tr>\n",
       "      <th>0</th>\n",
       "      <td>3/13/2020</td>\n",
       "      <td>1</td>\n",
       "      <td>Bursa Malaysia Bond Islamic  Stocks</td>\n",
       "      <td>0400GA</td>\n",
       "      <td>DIN040000223</td>\n",
       "      <td>102.2</td>\n",
       "      <td>101.8</td>\n",
       "      <td>101.8</td>\n",
       "      <td>-0.4</td>\n",
       "      <td>-0.39</td>\n",
       "      <td>1</td>\n",
       "    </tr>\n",
       "    <tr>\n",
       "      <th>1</th>\n",
       "      <td>3/13/2020</td>\n",
       "      <td>1</td>\n",
       "      <td>Bursa Malaysia Bond Islamic  Stocks</td>\n",
       "      <td>0400GC</td>\n",
       "      <td>DIN042300721</td>\n",
       "      <td>101.8</td>\n",
       "      <td>0.0</td>\n",
       "      <td>0.0</td>\n",
       "      <td>0.0</td>\n",
       "      <td>0.00</td>\n",
       "      <td>0</td>\n",
       "    </tr>\n",
       "    <tr>\n",
       "      <th>2</th>\n",
       "      <td>3/13/2020</td>\n",
       "      <td>1</td>\n",
       "      <td>Bursa Malaysia Bond Islamic  Stocks</td>\n",
       "      <td>0400GB</td>\n",
       "      <td>DIN045801028</td>\n",
       "      <td>104.5</td>\n",
       "      <td>104.5</td>\n",
       "      <td>104.5</td>\n",
       "      <td>0.0</td>\n",
       "      <td>0.00</td>\n",
       "      <td>1</td>\n",
       "    </tr>\n",
       "  </tbody>\n",
       "</table>\n",
       "</div>"
      ],
      "text/plain": [
       "        Date  Sector_Number                          Sector_Name Stock_Code  \\\n",
       "0  3/13/2020              1  Bursa Malaysia Bond Islamic  Stocks     0400GA   \n",
       "1  3/13/2020              1  Bursa Malaysia Bond Islamic  Stocks     0400GC   \n",
       "2  3/13/2020              1  Bursa Malaysia Bond Islamic  Stocks     0400GB   \n",
       "\n",
       "     Stock_Name    Ref   Open   Last  Change  Change_%  Volume  \n",
       "0  DIN040000223  102.2  101.8  101.8    -0.4     -0.39       1  \n",
       "1  DIN042300721  101.8    0.0    0.0     0.0      0.00       0  \n",
       "2  DIN045801028  104.5  104.5  104.5     0.0      0.00       1  "
      ]
     },
     "execution_count": 55,
     "metadata": {},
     "output_type": "execute_result"
    }
   ],
   "source": [
    "#loading the dataset and add column headers\n",
    "df = pd.read_csv('output.(6 May).csv', names=['Date','Sector_Number','Sector_Name','Stock_Code','Stock_Name','Ref','Open','Last','Change','Change_%', 'Volume'])\n",
    "print(df.shape)\n",
    "df.head(3)"
   ]
  },
  {
   "cell_type": "markdown",
   "metadata": {},
   "source": [
    "#### 1.2 Descriptive Dataset"
   ]
  },
  {
   "cell_type": "code",
   "execution_count": 56,
   "metadata": {},
   "outputs": [
    {
     "data": {
      "text/plain": [
       "Date                36\n",
       "Sector_Number       20\n",
       "Sector_Name         20\n",
       "Stock_Code        2326\n",
       "Stock_Name        2077\n",
       "Ref               1417\n",
       "Open              1407\n",
       "Last              1402\n",
       "Change             276\n",
       "Change_%          2975\n",
       "Volume           19232\n",
       "dtype: int64"
      ]
     },
     "execution_count": 56,
     "metadata": {},
     "output_type": "execute_result"
    }
   ],
   "source": [
    "#Count Unique value in all dataset columns\n",
    "df.nunique()"
   ]
  },
  {
   "cell_type": "code",
   "execution_count": 57,
   "metadata": {},
   "outputs": [
    {
     "data": {
      "text/plain": [
       "Date              object\n",
       "Sector_Number      int64\n",
       "Sector_Name       object\n",
       "Stock_Code        object\n",
       "Stock_Name        object\n",
       "Ref              float64\n",
       "Open             float64\n",
       "Last             float64\n",
       "Change           float64\n",
       "Change_%         float64\n",
       "Volume             int64\n",
       "dtype: object"
      ]
     },
     "execution_count": 57,
     "metadata": {},
     "output_type": "execute_result"
    }
   ],
   "source": [
    "# Get datatypes of columns in the dataframe\n",
    "df.dtypes"
   ]
  },
  {
   "cell_type": "code",
   "execution_count": 58,
   "metadata": {},
   "outputs": [
    {
     "data": {
      "text/html": [
       "<div>\n",
       "<style scoped>\n",
       "    .dataframe tbody tr th:only-of-type {\n",
       "        vertical-align: middle;\n",
       "    }\n",
       "\n",
       "    .dataframe tbody tr th {\n",
       "        vertical-align: top;\n",
       "    }\n",
       "\n",
       "    .dataframe thead th {\n",
       "        text-align: right;\n",
       "    }\n",
       "</style>\n",
       "<table border=\"1\" class=\"dataframe\">\n",
       "  <thead>\n",
       "    <tr style=\"text-align: right;\">\n",
       "      <th></th>\n",
       "      <th>Open</th>\n",
       "      <th>Last</th>\n",
       "      <th>Change</th>\n",
       "      <th>Change_%</th>\n",
       "      <th>Volume</th>\n",
       "    </tr>\n",
       "  </thead>\n",
       "  <tbody>\n",
       "    <tr>\n",
       "      <th>count</th>\n",
       "      <td>69682.000000</td>\n",
       "      <td>69682.000000</td>\n",
       "      <td>69682.000000</td>\n",
       "      <td>69682.000000</td>\n",
       "      <td>6.968200e+04</td>\n",
       "    </tr>\n",
       "    <tr>\n",
       "      <th>mean</th>\n",
       "      <td>0.693096</td>\n",
       "      <td>0.694439</td>\n",
       "      <td>0.000349</td>\n",
       "      <td>1.529059</td>\n",
       "      <td>2.199110e+04</td>\n",
       "    </tr>\n",
       "    <tr>\n",
       "      <th>std</th>\n",
       "      <td>4.273031</td>\n",
       "      <td>4.266857</td>\n",
       "      <td>0.369414</td>\n",
       "      <td>18.927120</td>\n",
       "      <td>1.158542e+05</td>\n",
       "    </tr>\n",
       "    <tr>\n",
       "      <th>min</th>\n",
       "      <td>0.000000</td>\n",
       "      <td>0.000000</td>\n",
       "      <td>-95.410000</td>\n",
       "      <td>-97.560000</td>\n",
       "      <td>0.000000e+00</td>\n",
       "    </tr>\n",
       "    <tr>\n",
       "      <th>25%</th>\n",
       "      <td>0.000000</td>\n",
       "      <td>0.000000</td>\n",
       "      <td>0.000000</td>\n",
       "      <td>0.000000</td>\n",
       "      <td>0.000000e+00</td>\n",
       "    </tr>\n",
       "    <tr>\n",
       "      <th>50%</th>\n",
       "      <td>0.045000</td>\n",
       "      <td>0.050000</td>\n",
       "      <td>0.000000</td>\n",
       "      <td>0.000000</td>\n",
       "      <td>1.760000e+02</td>\n",
       "    </tr>\n",
       "    <tr>\n",
       "      <th>75%</th>\n",
       "      <td>0.350000</td>\n",
       "      <td>0.355000</td>\n",
       "      <td>0.005000</td>\n",
       "      <td>0.590000</td>\n",
       "      <td>5.520000e+03</td>\n",
       "    </tr>\n",
       "    <tr>\n",
       "      <th>max</th>\n",
       "      <td>141.000000</td>\n",
       "      <td>141.000000</td>\n",
       "      <td>4.000000</td>\n",
       "      <td>1400.000000</td>\n",
       "      <td>5.031527e+06</td>\n",
       "    </tr>\n",
       "  </tbody>\n",
       "</table>\n",
       "</div>"
      ],
      "text/plain": [
       "               Open          Last        Change      Change_%        Volume\n",
       "count  69682.000000  69682.000000  69682.000000  69682.000000  6.968200e+04\n",
       "mean       0.693096      0.694439      0.000349      1.529059  2.199110e+04\n",
       "std        4.273031      4.266857      0.369414     18.927120  1.158542e+05\n",
       "min        0.000000      0.000000    -95.410000    -97.560000  0.000000e+00\n",
       "25%        0.000000      0.000000      0.000000      0.000000  0.000000e+00\n",
       "50%        0.045000      0.050000      0.000000      0.000000  1.760000e+02\n",
       "75%        0.350000      0.355000      0.005000      0.590000  5.520000e+03\n",
       "max      141.000000    141.000000      4.000000   1400.000000  5.031527e+06"
      ]
     },
     "execution_count": 58,
     "metadata": {},
     "output_type": "execute_result"
    }
   ],
   "source": [
    "#calling describe method from column 6 to the last column \n",
    "df.iloc[:, 6:11].describe()  "
   ]
  },
  {
   "cell_type": "code",
   "execution_count": 59,
   "metadata": {},
   "outputs": [
    {
     "data": {
      "text/html": [
       "<div>\n",
       "<style scoped>\n",
       "    .dataframe tbody tr th:only-of-type {\n",
       "        vertical-align: middle;\n",
       "    }\n",
       "\n",
       "    .dataframe tbody tr th {\n",
       "        vertical-align: top;\n",
       "    }\n",
       "\n",
       "    .dataframe thead th {\n",
       "        text-align: right;\n",
       "    }\n",
       "</style>\n",
       "<table border=\"1\" class=\"dataframe\">\n",
       "  <thead>\n",
       "    <tr style=\"text-align: right;\">\n",
       "      <th></th>\n",
       "      <th>Date</th>\n",
       "      <th>Sector_Name</th>\n",
       "      <th>Stock_Code</th>\n",
       "      <th>Stock_Name</th>\n",
       "    </tr>\n",
       "  </thead>\n",
       "  <tbody>\n",
       "    <tr>\n",
       "      <th>count</th>\n",
       "      <td>69682</td>\n",
       "      <td>69682</td>\n",
       "      <td>69682</td>\n",
       "      <td>69682</td>\n",
       "    </tr>\n",
       "    <tr>\n",
       "      <th>unique</th>\n",
       "      <td>36</td>\n",
       "      <td>20</td>\n",
       "      <td>2326</td>\n",
       "      <td>2077</td>\n",
       "    </tr>\n",
       "    <tr>\n",
       "      <th>top</th>\n",
       "      <td>3/13/2020</td>\n",
       "      <td>Bursa Malaysia Industrial Products &amp; Services ...</td>\n",
       "      <td>3026</td>\n",
       "      <td>TUNEPRO</td>\n",
       "    </tr>\n",
       "    <tr>\n",
       "      <th>freq</th>\n",
       "      <td>2016</td>\n",
       "      <td>14210</td>\n",
       "      <td>42</td>\n",
       "      <td>36</td>\n",
       "    </tr>\n",
       "  </tbody>\n",
       "</table>\n",
       "</div>"
      ],
      "text/plain": [
       "             Date                                        Sector_Name  \\\n",
       "count       69682                                              69682   \n",
       "unique         36                                                 20   \n",
       "top     3/13/2020  Bursa Malaysia Industrial Products & Services ...   \n",
       "freq         2016                                              14210   \n",
       "\n",
       "       Stock_Code Stock_Name  \n",
       "count       69682      69682  \n",
       "unique       2326       2077  \n",
       "top          3026    TUNEPRO  \n",
       "freq           42         36  "
      ]
     },
     "execution_count": 59,
     "metadata": {},
     "output_type": "execute_result"
    }
   ],
   "source": [
    "# Object columns\n",
    "df.describe(include=[np.object])"
   ]
  },
  {
   "cell_type": "markdown",
   "metadata": {},
   "source": [
    "### 2. Data Cleaning\n",
    "#### 2.1 Check for the missing values"
   ]
  },
  {
   "cell_type": "code",
   "execution_count": 60,
   "metadata": {},
   "outputs": [
    {
     "data": {
      "text/plain": [
       "Date             0\n",
       "Sector_Number    0\n",
       "Sector_Name      0\n",
       "Stock_Code       0\n",
       "Stock_Name       0\n",
       "Ref              0\n",
       "Open             0\n",
       "Last             0\n",
       "Change           0\n",
       "Change_%         0\n",
       "Volume           0\n",
       "dtype: int64"
      ]
     },
     "execution_count": 60,
     "metadata": {},
     "output_type": "execute_result"
    }
   ],
   "source": [
    "#Check on missing values\n",
    "df.isnull().sum() \n",
    "#There is no missing values in the dataset"
   ]
  },
  {
   "cell_type": "code",
   "execution_count": 61,
   "metadata": {},
   "outputs": [],
   "source": [
    "#Exporting to CSVs\n",
    "df.to_csv('Stock_cleanfile.csv',index=False,header=True) "
   ]
  },
  {
   "cell_type": "code",
   "execution_count": null,
   "metadata": {},
   "outputs": [],
   "source": []
  }
 ],
 "metadata": {
  "kernelspec": {
   "display_name": "Python 3",
   "language": "python",
   "name": "python3"
  },
  "language_info": {
   "codemirror_mode": {
    "name": "ipython",
    "version": 3
   },
   "file_extension": ".py",
   "mimetype": "text/x-python",
   "name": "python",
   "nbconvert_exporter": "python",
   "pygments_lexer": "ipython3",
   "version": "3.7.3"
  }
 },
 "nbformat": 4,
 "nbformat_minor": 2
}
